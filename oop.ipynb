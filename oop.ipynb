{
  "nbformat": 4,
  "nbformat_minor": 0,
  "metadata": {
    "colab": {
      "provenance": []
    },
    "kernelspec": {
      "name": "python3",
      "display_name": "Python 3"
    },
    "language_info": {
      "name": "python"
    }
  },
  "cells": [
    {
      "cell_type": "code",
      "execution_count": null,
      "metadata": {
        "id": "jtqBTUOJktnt"
      },
      "outputs": [],
      "source": []
    },
    {
      "cell_type": "markdown",
      "source": [
        "1. What are the five key concepts of Object-Oriented Programming (OOP)?"
      ],
      "metadata": {
        "id": "5InyTqjhkxDM"
      }
    },
    {
      "cell_type": "code",
      "source": [],
      "metadata": {
        "id": "55eyk0MSkx3O"
      },
      "execution_count": null,
      "outputs": []
    },
    {
      "cell_type": "markdown",
      "source": [
        "Classes and Objects:\n",
        "Class: A blueprint for creating objects. It defines a datatype by bundling data and methods that work on the data into one single unit.\n",
        "Object: An instance of a class. It is created from a class and can have unique values for its properties1.\n",
        "Encapsulation:\n",
        "This concept involves bundling the data (variables) and the methods (functions) that operate on the data into a single unit, or class. It also restricts direct access to some of an object’s components, which is a means of preventing accidental interference and misuse of the data2.\n",
        "Inheritance:\n",
        "This allows a new class to inherit the properties and methods of an existing class. It promotes code reusability and establishes a natural hierarchy between classes2.\n",
        "Polymorphism:\n",
        "This concept allows objects to be treated as instances of their parent class rather than their actual class. It enables one interface to be used for a general class of actions, making it easier to add new functionalities2.\n",
        "Abstraction:\n",
        "This involves hiding the complex implementation details and showing only the essential features of the object. It helps in reducing programming complexity and effort2.\n"
      ],
      "metadata": {
        "id": "MLnx1tmVk27r"
      }
    },
    {
      "cell_type": "code",
      "source": [],
      "metadata": {
        "id": "9Qfg2ikFlA-_"
      },
      "execution_count": null,
      "outputs": []
    },
    {
      "cell_type": "markdown",
      "source": [
        "2. Write a Python class for a `Car` with attributes for `make`, `model`, and `year`. Include a method to display\n",
        "the car's information.\n",
        "\n",
        "\n"
      ],
      "metadata": {
        "id": "_uDdIsSPlEvD"
      }
    },
    {
      "cell_type": "code",
      "source": [
        "class Car:\n",
        "    def __init__(self, make, model, year):\n",
        "        self.make = make\n",
        "        self.model = model\n",
        "        self.year = year\n",
        "\n",
        "    def display_info(self):\n",
        "        print(f\"Car Information: {self.year} {self.make} {self.model}\")\n",
        "\n",
        "# Example usage\n",
        "my_car = Car(\"Toyota\", \"Corolla\", 2020)\n",
        "my_car.display_info()"
      ],
      "metadata": {
        "colab": {
          "base_uri": "https://localhost:8080/"
        },
        "id": "eDD8rfrzlFQS",
        "outputId": "18796370-3e40-4cec-dc2c-be0facf88f0a"
      },
      "execution_count": 1,
      "outputs": [
        {
          "output_type": "stream",
          "name": "stdout",
          "text": [
            "Car Information: 2020 Toyota Corolla\n"
          ]
        }
      ]
    },
    {
      "cell_type": "code",
      "source": [],
      "metadata": {
        "id": "pTXAM9uWlO0S"
      },
      "execution_count": null,
      "outputs": []
    },
    {
      "cell_type": "markdown",
      "source": [
        "3. Explain the difference between instance methods and class methods. Provide an example of each."
      ],
      "metadata": {
        "id": "XhiF9Xk1lWRw"
      }
    },
    {
      "cell_type": "code",
      "source": [
        "#instance Methods\n",
        "#Definition: Instance methods are functions defined within a class that operate on instances of the class. They can access and modify the instance’s attributes.\n",
        "\n",
        "\n",
        "class Car:\n",
        "    def __init__(self, make, model, year):\n",
        "        self.make = make\n",
        "        self.model = model\n",
        "        self.year = year\n",
        "\n",
        "    def display_info(self):\n",
        "        print(f\"Car Information: {self.year} {self.make} {self.model}\")\n",
        "\n",
        "# Creating an instance of Car\n",
        "my_car = Car(\"Toyota\", \"Corolla\", 2020)\n",
        "my_car.display_info()  # Output: Car Information: 2020 Toyota Corolla\n",
        "\n",
        "#Class Methods\n",
        "#Definition: Class methods are functions that are bound to the class and not the instance of the class. They can modify a class’s state that applies across all instances of the class.\n",
        "\n",
        "\n",
        "class Car:\n",
        "    total_cars = 0\n",
        "\n",
        "    def __init__(self, make, model, year):\n",
        "        self.make = make\n",
        "        self.model = model\n",
        "        self.year = year\n",
        "        Car.total_cars += 1\n",
        "\n",
        "    @classmethod\n",
        "    def display_total_cars(cls):\n",
        "        print(f\"Total number of cars: {cls.total_cars}\")\n",
        "\n",
        "# Creating instances of Car\n",
        "car1 = Car(\"Toyota\", \"Corolla\", 2020)\n",
        "car2 = Car(\"Honda\", \"Civic\", 2021)\n",
        "\n",
        "# Calling the class method\n",
        "Car.display_total_cars()  # Output: Total number of cars: 2\n"
      ],
      "metadata": {
        "colab": {
          "base_uri": "https://localhost:8080/"
        },
        "id": "2tq9EivNlW2O",
        "outputId": "07a953d5-e789-492c-e0ad-35f5a270fa29"
      },
      "execution_count": 3,
      "outputs": [
        {
          "output_type": "stream",
          "name": "stdout",
          "text": [
            "Car Information: 2020 Toyota Corolla\n",
            "Total number of cars: 2\n"
          ]
        }
      ]
    },
    {
      "cell_type": "code",
      "source": [],
      "metadata": {
        "id": "1BGMGrP5l-Q0"
      },
      "execution_count": null,
      "outputs": []
    },
    {
      "cell_type": "markdown",
      "source": [
        "4. How does Python implement method overloading? Give an example."
      ],
      "metadata": {
        "id": "QddvdBYumKYZ"
      }
    },
    {
      "cell_type": "code",
      "source": [
        "#Using Default Arguments\n",
        "#You can define a method with default values for its parameters. This allows the method to be called with different numbers of arguments.\n",
        "\n",
        "\n",
        "class Human:\n",
        "    def say_hello(self, name=None):\n",
        "        if name is not None:\n",
        "            print(f\"Hello, {name}!\")\n",
        "        else:\n",
        "            print(\"Hello!\")\n",
        "\n",
        "# Creating an instance of Human\n",
        "person = Human()\n",
        "person.say_hello()\n",
        "person.say_hello(\"Alice\")\n",
        "#Using Variable-Length Arguments\n",
        "\n",
        "\n",
        "class Calculator:\n",
        "    def add(self, *args):\n",
        "        return sum(args)\n",
        "\n",
        "# Creating an instance of Calculator\n",
        "calc = Calculator()\n",
        "print(calc.add(1, 2))          # Output: 3\n",
        "print(calc.add(1, 2, 3, 4))    # Output: 10\n",
        "\n",
        "#Using Multiple Dispatch (Third-Party Library)\n",
        "#For more advanced method overloading, you can use the multipledispatch library, which allows you to define multiple versions of a method based on the types and number of arguments.\n",
        "\n",
        "\n",
        "\n",
        "from multipledispatch import dispatch\n",
        "\n",
        "class Example:\n",
        "    @dispatch(int, int)\n",
        "    def add(self, a, b):\n",
        "        return a + b\n",
        "\n",
        "    @dispatch(int, int, int)\n",
        "    def add(self, a, b, c):\n",
        "        return a + b + c\n",
        "\n",
        "# Creating an instance of Example\n",
        "example = Example()\n",
        "print(example.add(1, 2))\n",
        "print(example.add(1, 2, 3))"
      ],
      "metadata": {
        "colab": {
          "base_uri": "https://localhost:8080/"
        },
        "id": "-dovc0vGmK0j",
        "outputId": "e8985b45-5877-4924-a961-ac7717a727e8"
      },
      "execution_count": 4,
      "outputs": [
        {
          "output_type": "stream",
          "name": "stdout",
          "text": [
            "Hello!\n",
            "Hello, Alice!\n",
            "3\n",
            "10\n",
            "3\n",
            "6\n"
          ]
        }
      ]
    },
    {
      "cell_type": "code",
      "source": [],
      "metadata": {
        "id": "m9kTvqGIm89Q"
      },
      "execution_count": null,
      "outputs": []
    },
    {
      "cell_type": "markdown",
      "source": [
        "5. What are the three types of access modifiers in Python? How are they denoted?"
      ],
      "metadata": {
        "id": "gVehLO6XnQ3i"
      }
    },
    {
      "cell_type": "code",
      "source": [
        "class Example:\n",
        "    def __init__(self):\n",
        "        self.public_var = \"I am public\"\n",
        "\n",
        "obj = Example()\n",
        "print(obj.public_var)  # Output: I am public"
      ],
      "metadata": {
        "colab": {
          "base_uri": "https://localhost:8080/"
        },
        "id": "kgvSrl0xnRXL",
        "outputId": "f7279428-6c94-4343-b54e-ce657fb20b3e"
      },
      "execution_count": 5,
      "outputs": [
        {
          "output_type": "stream",
          "name": "stdout",
          "text": [
            "I am public\n"
          ]
        }
      ]
    },
    {
      "cell_type": "code",
      "source": [
        "class Example:\n",
        "    def __init__(self):\n",
        "        self._protected_var = \"I am protected\"\n",
        "\n",
        "obj = Example()\n",
        "print(obj._protected_var)\n"
      ],
      "metadata": {
        "colab": {
          "base_uri": "https://localhost:8080/"
        },
        "id": "z_7UbtqRncqA",
        "outputId": "c5246fd7-c4dd-4bf3-8afb-8beec021ad60"
      },
      "execution_count": 6,
      "outputs": [
        {
          "output_type": "stream",
          "name": "stdout",
          "text": [
            "I am protected\n"
          ]
        }
      ]
    },
    {
      "cell_type": "code",
      "source": [
        "class Example:\n",
        "    def __init__(self):\n",
        "        self.__private_var = \"I am private\"\n",
        "\n",
        "    def get_private_var(self):\n",
        "        return self.__private_var\n",
        "\n",
        "obj = Example()\n",
        "# print(obj.__private_var)  # This will raise an AttributeError\n",
        "print(obj.get_private_var())"
      ],
      "metadata": {
        "colab": {
          "base_uri": "https://localhost:8080/"
        },
        "id": "DNoKCScDnoYT",
        "outputId": "0827e280-8d12-4bea-c5a3-c148afa12953"
      },
      "execution_count": 7,
      "outputs": [
        {
          "output_type": "stream",
          "name": "stdout",
          "text": [
            "I am private\n"
          ]
        }
      ]
    },
    {
      "cell_type": "code",
      "source": [],
      "metadata": {
        "id": "_8N_3mIQnpKY"
      },
      "execution_count": null,
      "outputs": []
    },
    {
      "cell_type": "markdown",
      "source": [
        "6. Describe the five types of inheritance in Python. Provide a simple example of multiple inheritance."
      ],
      "metadata": {
        "id": "twLkB5DXnsff"
      }
    },
    {
      "cell_type": "code",
      "source": [
        "class Grandparent:\n",
        "    def grandparent_method(self):\n",
        "        print(\"This is a grandparent method.\")\n",
        "\n",
        "class Parent(Grandparent):\n",
        "    def parent_method(self):\n",
        "        print(\"This is a parent method.\")\n",
        "\n",
        "class Child(Parent):\n",
        "    def child_method(self):\n",
        "        print(\"This is a child method.\")\n",
        "\n",
        "obj = Child()\n",
        "obj.grandparent_method()  # Output: This is a grandparent method.\n",
        "obj.parent_method()       # Output: This is a parent method.\n",
        "obj.child_method()\n",
        "class Parent:\n",
        "    def parent_method(self):\n",
        "        print(\"This is a parent method.\")\n",
        "\n",
        "class Child1(Parent):\n",
        "    def child1_method(self):\n",
        "        print(\"This is child1 method.\")\n",
        "\n",
        "class Child2(Parent):\n",
        "    def child2_method(self):\n",
        "        print(\"This is child2 method.\")\n",
        "\n",
        "obj1 = Child1()\n",
        "obj2 = Child2()\n",
        "obj1.parent_method()  # Output: This is a parent method.\n",
        "obj1.child1_method()  # Output: This is child1 method.\n",
        "obj2.parent_method()  # Output: This is a parent method.\n",
        "obj2.child2_method()  # Output: This is child2 method.\n",
        "class Parent:\n",
        "    def parent_method(self):\n",
        "        print(\"This is a parent method.\")\n",
        "\n",
        "class Child1(Parent):\n",
        "    def child1_method(self):\n",
        "        print(\"This is child1 method.\")\n",
        "\n",
        "class Child2(Parent):\n",
        "    def child2_method(self):\n",
        "        print(\"This is child2 method.\")\n",
        "\n",
        "class GrandChild(Child1, Child2):\n",
        "    def grandchild_method(self):\n",
        "        print(\"This is a grandchild method.\")\n",
        "\n",
        "obj = GrandChild()\n",
        "obj.parent_method()     # Output: This is a parent method.\n",
        "obj.child1_method()     # Output: This is child1 method.\n",
        "obj.child2_method()     # Output: This is child2 method.\n",
        "obj.grandchild_method() # Output: This is a grandchild method.\n"
      ],
      "metadata": {
        "colab": {
          "base_uri": "https://localhost:8080/"
        },
        "id": "A3laULlGntLh",
        "outputId": "e39597ad-b7f4-48e2-dfed-2e6208f1d0ab"
      },
      "execution_count": 8,
      "outputs": [
        {
          "output_type": "stream",
          "name": "stdout",
          "text": [
            "This is a grandparent method.\n",
            "This is a parent method.\n",
            "This is a child method.\n",
            "This is a parent method.\n",
            "This is child1 method.\n",
            "This is a parent method.\n",
            "This is child2 method.\n",
            "This is a parent method.\n",
            "This is child1 method.\n",
            "This is child2 method.\n",
            "This is a grandchild method.\n"
          ]
        }
      ]
    },
    {
      "cell_type": "code",
      "source": [],
      "metadata": {
        "id": "NTG9OhhtoKTN"
      },
      "execution_count": null,
      "outputs": []
    },
    {
      "cell_type": "markdown",
      "source": [
        "7. What is the Method Resolution Order (MRO) in Python? How can you retrieve it programmatically?"
      ],
      "metadata": {
        "id": "4EZ2qewtoMTa"
      }
    },
    {
      "cell_type": "code",
      "source": [
        "class A:\n",
        "    def method(self):\n",
        "        print(\"Method in A\")\n",
        "\n",
        "class B(A):\n",
        "    def method(self):\n",
        "        print(\"Method in B\")\n",
        "\n",
        "class C(A):\n",
        "    def method(self):\n",
        "        print(\"Method in C\")\n",
        "\n",
        "class D(B, C):\n",
        "    pass\n",
        "\n",
        "# Retrieving MRO\n",
        "print(D.__mro__)\n",
        "\n",
        "print(D.mro())\n",
        "\n",
        "# Creating an instance of D and calling method\n",
        "d = D()\n",
        "d.method()\n",
        "\n"
      ],
      "metadata": {
        "colab": {
          "base_uri": "https://localhost:8080/"
        },
        "id": "7mqe0kHnoMuD",
        "outputId": "7bd1cb35-ba40-477f-b350-a00e1da9d3e2"
      },
      "execution_count": 9,
      "outputs": [
        {
          "output_type": "stream",
          "name": "stdout",
          "text": [
            "(<class '__main__.D'>, <class '__main__.B'>, <class '__main__.C'>, <class '__main__.A'>, <class 'object'>)\n",
            "[<class '__main__.D'>, <class '__main__.B'>, <class '__main__.C'>, <class '__main__.A'>, <class 'object'>]\n",
            "Method in B\n"
          ]
        }
      ]
    },
    {
      "cell_type": "code",
      "source": [],
      "metadata": {
        "id": "M2ot_IMgodA_"
      },
      "execution_count": null,
      "outputs": []
    },
    {
      "cell_type": "markdown",
      "source": [
        "8. Create an abstract base class `Shape` with an abstract method `area()`. Then create two subclasses\n",
        "`Circle` and `Rectangle` that implement the `area()` method."
      ],
      "metadata": {
        "id": "YJP0ZVXcolez"
      }
    },
    {
      "cell_type": "code",
      "source": [
        "from abc import ABC, abstractmethod\n",
        "import math\n",
        "\n",
        "class Shape(ABC):\n",
        "    @abstractmethod\n",
        "    def area(self):\n",
        "        pass\n",
        "\n",
        "class Circle(Shape):\n",
        "    def __init__(self, radius):\n",
        "        self.radius = radius\n",
        "\n",
        "    def area(self):\n",
        "        return math.pi * self.radius ** 2\n",
        "\n",
        "class Rectangle(Shape):\n",
        "    def __init__(self, width, height):\n",
        "        self.width = width\n",
        "        self.height = height\n",
        "\n",
        "    def area(self):\n",
        "        return self.width * self.height\n",
        "\n",
        "# Example usage\n",
        "circle = Circle(5)\n",
        "rectangle = Rectangle(4, 6)\n",
        "\n",
        "print(f\"Area of the circle: {circle.area()}\")  # Output: Area of the circle: 78.53981633974483\n",
        "print(f\"Area of the rectangle: {rectangle.area()}\")  # Output: Area of the rectangle: 24\n"
      ],
      "metadata": {
        "colab": {
          "base_uri": "https://localhost:8080/"
        },
        "id": "5lkSdw72orfz",
        "outputId": "202f4b47-d78e-40b5-e83d-10c589b29276"
      },
      "execution_count": 10,
      "outputs": [
        {
          "output_type": "stream",
          "name": "stdout",
          "text": [
            "Area of the circle: 78.53981633974483\n",
            "Area of the rectangle: 24\n"
          ]
        }
      ]
    },
    {
      "cell_type": "code",
      "source": [],
      "metadata": {
        "id": "pdx5zArxo7be"
      },
      "execution_count": null,
      "outputs": []
    },
    {
      "cell_type": "markdown",
      "source": [
        "9. Demonstrate polymorphism by creating a function that can work with different shape objects to calculate\n",
        "and print their areas.\n",
        "\n",
        "\n"
      ],
      "metadata": {
        "id": "Ymg5v2bQo9p-"
      }
    },
    {
      "cell_type": "code",
      "source": [
        "#define the Shape abstract base class and its subclasses Circle and Rectangle:\n",
        "\n",
        "\n",
        "\n",
        "from abc import ABC, abstractmethod\n",
        "import math\n",
        "\n",
        "class Shape(ABC):\n",
        "    @abstractmethod\n",
        "    def area(self):\n",
        "        pass\n",
        "\n",
        "class Circle(Shape):\n",
        "    def __init__(self, radius):\n",
        "        self.radius = radius\n",
        "\n",
        "    def area(self):\n",
        "        return math.pi * self.radius ** 2\n",
        "\n",
        "class Rectangle(Shape):\n",
        "    def __init__(self, width, height):\n",
        "        self.width = width\n",
        "        self.height = height\n",
        "\n",
        "    def area(self):\n",
        "        return self.width * self.height\n",
        "\n",
        "\n",
        "def print_areas(shapes):\n",
        "    for shape in shapes:\n",
        "        print(f\"The area is: {shape.area()}\")\n",
        "\n",
        "# Example usage\n",
        "circle = Circle(5)\n",
        "rectangle = Rectangle(4, 6)\n",
        "\n",
        "shapes = [circle, rectangle]\n",
        "print_areas(shapes)\n"
      ],
      "metadata": {
        "colab": {
          "base_uri": "https://localhost:8080/"
        },
        "id": "SfRI55aDo-Hh",
        "outputId": "1d56ce36-83e4-4a23-ee41-fd65f167d940"
      },
      "execution_count": 11,
      "outputs": [
        {
          "output_type": "stream",
          "name": "stdout",
          "text": [
            "The area is: 78.53981633974483\n",
            "The area is: 24\n"
          ]
        }
      ]
    },
    {
      "cell_type": "code",
      "source": [],
      "metadata": {
        "id": "0pVTjfI6pThx"
      },
      "execution_count": null,
      "outputs": []
    },
    {
      "cell_type": "markdown",
      "source": [
        "10. Implement encapsulation in a `BankAccount` class with private attributes for `balance` and\n",
        "`account_number`. Include methods for deposit, withdrawal, and balance inquiry."
      ],
      "metadata": {
        "id": "imOzMeD2pWUv"
      }
    },
    {
      "cell_type": "code",
      "source": [
        "class BankAccount:\n",
        "    def __init__(self, account_number, initial_balance=0):\n",
        "        self.__account_number = account_number\n",
        "        self.__balance = initial_balance\n",
        "\n",
        "    def deposit(self, amount):\n",
        "        if amount > 0:\n",
        "            self.__balance += amount\n",
        "            print(f\"Deposited {amount}. New balance is {self.__balance}.\")\n",
        "        else:\n",
        "            print(\"Deposit amount must be positive.\")\n",
        "\n",
        "    def withdraw(self, amount):\n",
        "        if 0 < amount <= self.__balance:\n",
        "            self.__balance -= amount\n",
        "            print(f\"Withdrew {amount}. New balance is {self.__balance}.\")\n",
        "        else:\n",
        "            print(\"Insufficient funds or invalid amount.\")\n",
        "\n",
        "    def check_balance(self):\n",
        "        print(f\"Current balance is {self.__balance}.\")\n",
        "\n",
        "# Example usage\n",
        "account = BankAccount(\"123456789\", 1000)\n",
        "account.deposit(500)\n",
        "account.withdraw(200)\n",
        "account.check_balance()"
      ],
      "metadata": {
        "colab": {
          "base_uri": "https://localhost:8080/"
        },
        "id": "0GxX2MtTpW01",
        "outputId": "1fca02b7-906e-49e5-fbdc-a3505a59f551"
      },
      "execution_count": 12,
      "outputs": [
        {
          "output_type": "stream",
          "name": "stdout",
          "text": [
            "Deposited 500. New balance is 1500.\n",
            "Withdrew 200. New balance is 1300.\n",
            "Current balance is 1300.\n"
          ]
        }
      ]
    },
    {
      "cell_type": "code",
      "source": [],
      "metadata": {
        "id": "NPsIvjMKpwZr"
      },
      "execution_count": null,
      "outputs": []
    },
    {
      "cell_type": "markdown",
      "source": [
        "11. Write a class that overrides the `__str__` and `__add__` magic methods. What will these methods allow\n",
        "you to do?"
      ],
      "metadata": {
        "id": "dTnQsbDdqAGv"
      }
    },
    {
      "cell_type": "code",
      "source": [
        "\n",
        "class ComplexNumber:\n",
        "    def __init__(self, real, imag):\n",
        "        self.real = real\n",
        "        self.imag = imag\n",
        "\n",
        "    def __str__(self):\n",
        "        return f\"{self.real} + {self.imag}i\"\n",
        "\n",
        "    def __add__(self, other):\n",
        "        real_sum = self.real + other.real\n",
        "        imag_sum = self.imag + other.imag\n",
        "        return ComplexNumber(real_sum, imag_sum)\n",
        "\n",
        "# Example usage:\n",
        "num1 = ComplexNumber(2, 3)\n",
        "num2 = ComplexNumber(4, 5)\n",
        "num3 = num1 + num2\n",
        "\n",
        "print(num1)\n",
        "print(num2)\n",
        "print(num3)"
      ],
      "metadata": {
        "colab": {
          "base_uri": "https://localhost:8080/"
        },
        "id": "eJ5vm4ZYqAne",
        "outputId": "fc2d9b10-9ea2-4c2b-9401-4f59bc59adc0"
      },
      "execution_count": 13,
      "outputs": [
        {
          "output_type": "stream",
          "name": "stdout",
          "text": [
            "2 + 3i\n",
            "4 + 5i\n",
            "6 + 8i\n"
          ]
        }
      ]
    },
    {
      "cell_type": "code",
      "source": [],
      "metadata": {
        "id": "_9QugaxGrDC-"
      },
      "execution_count": null,
      "outputs": []
    },
    {
      "cell_type": "markdown",
      "source": [
        "12. Create a decorator that measures and prints the execution time of a function."
      ],
      "metadata": {
        "id": "7ZBgxejcrF6-"
      }
    },
    {
      "cell_type": "code",
      "source": [
        "import time\n",
        "\n",
        "def execution_time_decorator(func):\n",
        "    def wrapper(*args, **kwargs):\n",
        "        start_time = time.time()\n",
        "        result = func(*args, **kwargs)\n",
        "        end_time = time.time()\n",
        "        execution_time = end_time - start_time\n",
        "        print(f\"Execution time of {func.__name__}: {execution_time:.4f} seconds\")\n",
        "        return result\n",
        "    return wrapper\n",
        "\n",
        "# Example usage:\n",
        "@execution_time_decorator\n",
        "def example_function(n):\n",
        "    total = 0\n",
        "    for i in range(n):\n",
        "        total += i\n",
        "    return total\n",
        "\n",
        "# Calling the decorated function\n",
        "result = example_function(1000000)\n",
        "print(f\"Result: {result}\")\n"
      ],
      "metadata": {
        "colab": {
          "base_uri": "https://localhost:8080/"
        },
        "id": "prhE6CGXrGZk",
        "outputId": "91f969fd-f1f4-40f1-91a6-86ed12c03fd9"
      },
      "execution_count": 14,
      "outputs": [
        {
          "output_type": "stream",
          "name": "stdout",
          "text": [
            "Execution time of example_function: 0.1638 seconds\n",
            "Result: 499999500000\n"
          ]
        }
      ]
    },
    {
      "cell_type": "code",
      "source": [],
      "metadata": {
        "id": "NoaMfQjQrVlV"
      },
      "execution_count": null,
      "outputs": []
    },
    {
      "cell_type": "markdown",
      "source": [
        "13. Explain the concept of the Diamond Problem in multiple inheritance. How does Python resolve it?"
      ],
      "metadata": {
        "id": "5wmbwsYKrXpA"
      }
    },
    {
      "cell_type": "code",
      "source": [
        "class A:\n",
        "    def display(self):\n",
        "        print(\"This is class A\")\n",
        "\n",
        "class B(A):\n",
        "    def display(self):\n",
        "        print(\"This is class B\")\n",
        "\n",
        "class C(A):\n",
        "    def display(self):\n",
        "        print(\"This is class C\")\n",
        "\n",
        "class D(B, C):\n",
        "    pass\n",
        "\n",
        "obj = D()\n",
        "obj.display()  # Output: This is class B\n",
        "print(D.__mro__)"
      ],
      "metadata": {
        "colab": {
          "base_uri": "https://localhost:8080/"
        },
        "id": "4-3v3FTtrYHi",
        "outputId": "c4439547-1fc0-42ce-d477-fd376e97d5da"
      },
      "execution_count": 15,
      "outputs": [
        {
          "output_type": "stream",
          "name": "stdout",
          "text": [
            "This is class B\n",
            "(<class '__main__.D'>, <class '__main__.B'>, <class '__main__.C'>, <class '__main__.A'>, <class 'object'>)\n"
          ]
        }
      ]
    },
    {
      "cell_type": "code",
      "source": [],
      "metadata": {
        "id": "mj049nHzrnRH"
      },
      "execution_count": null,
      "outputs": []
    },
    {
      "cell_type": "markdown",
      "source": [
        "14. Write a class method that keeps track of the number of instances created from a class."
      ],
      "metadata": {
        "id": "B8nHHT6LrpMy"
      }
    },
    {
      "cell_type": "code",
      "source": [
        "class InstanceCounter:\n",
        "    instance_count = 0\n",
        "\n",
        "    def __init__(self):\n",
        "        InstanceCounter.instance_count += 1\n",
        "\n",
        "    @classmethod\n",
        "    def get_instance_count(cls):\n",
        "        return cls.instance_count\n",
        "\n",
        "# Example usage:\n",
        "obj1 = InstanceCounter()\n",
        "obj2 = InstanceCounter()\n",
        "obj3 = InstanceCounter()\n",
        "\n",
        "print(InstanceCounter.get_instance_count())"
      ],
      "metadata": {
        "colab": {
          "base_uri": "https://localhost:8080/"
        },
        "id": "BXSvUGL4rrNi",
        "outputId": "6a334f62-c3e9-4f8a-92cf-799fdc3d74e2"
      },
      "execution_count": 16,
      "outputs": [
        {
          "output_type": "stream",
          "name": "stdout",
          "text": [
            "3\n"
          ]
        }
      ]
    },
    {
      "cell_type": "code",
      "source": [],
      "metadata": {
        "id": "p-wyM0qgryjn"
      },
      "execution_count": null,
      "outputs": []
    },
    {
      "cell_type": "markdown",
      "source": [
        "5. Implement a static method in a class that checks if a given year is a leap year"
      ],
      "metadata": {
        "id": "nwUu5A0Zr09J"
      }
    },
    {
      "cell_type": "code",
      "source": [
        "class YearChecker:\n",
        "    @staticmethod\n",
        "    def is_leap_year(year):\n",
        "        if (year % 4 == 0 and year % 100 != 0) or (year % 400 == 0):\n",
        "            return True\n",
        "        return False\n",
        "\n",
        "# Example usage:\n",
        "print(YearChecker.is_leap_year(2024))  # Output: True\n",
        "print(YearChecker.is_leap_year(1900))  # Output: False\n",
        "print(YearChecker.is_leap_year(2000))"
      ],
      "metadata": {
        "colab": {
          "base_uri": "https://localhost:8080/"
        },
        "id": "Uj9lz5dbr1XD",
        "outputId": "ad988890-91f7-498c-94cd-4c91dd04d60e"
      },
      "execution_count": 17,
      "outputs": [
        {
          "output_type": "stream",
          "name": "stdout",
          "text": [
            "True\n",
            "False\n",
            "True\n"
          ]
        }
      ]
    },
    {
      "cell_type": "code",
      "source": [],
      "metadata": {
        "id": "3xIjlbE3sB0-"
      },
      "execution_count": null,
      "outputs": []
    }
  ]
}